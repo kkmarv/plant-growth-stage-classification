{
 "cells": [
  {
   "cell_type": "markdown",
   "metadata": {},
   "source": [
    "Loading data"
   ]
  },
  {
   "cell_type": "code",
   "execution_count": null,
   "metadata": {},
   "outputs": [],
   "source": [
    "import pandas as pd\n",
    "\n",
    "df = pd.read_csv(\"./data/data_minus_labels_less_3_instances.csv\", sep=\";\")\n",
    "\n",
    "pics = df[df[\"BildUrl\"].notna()]\n",
    "pics.head()"
   ]
  },
  {
   "cell_type": "markdown",
   "metadata": {},
   "source": [
    "Drop rows with picture missing"
   ]
  },
  {
   "cell_type": "code",
   "execution_count": null,
   "metadata": {},
   "outputs": [],
   "source": [
    "pics = pics.drop(index=pics[pics[\"Stadium\"].isna()].index)\n",
    "pics.sort_values(by=[\"Pflanze\", \"Stadium\"])\n",
    "pics.sample(5)"
   ]
  },
  {
   "cell_type": "markdown",
   "metadata": {},
   "source": [
    "List number of pictures in each class"
   ]
  },
  {
   "cell_type": "code",
   "execution_count": null,
   "metadata": {},
   "outputs": [],
   "source": [
    "num_instances = pics[\"Stadium\"].value_counts()\n",
    "num_instances"
   ]
  },
  {
   "cell_type": "markdown",
   "metadata": {},
   "source": [
    "Remove classes which haven't enough pictures"
   ]
  },
  {
   "cell_type": "code",
   "execution_count": null,
   "metadata": {},
   "outputs": [],
   "source": [
    "underrepresented_labels = num_instances[num_instances < 8].index.to_list()\n",
    "mask = df[\"Stadium\"].isin(underrepresented_labels)\n",
    "pics[mask].head()"
   ]
  },
  {
   "cell_type": "code",
   "execution_count": null,
   "metadata": {},
   "outputs": [],
   "source": [
    "pics = pics.drop(pics[mask].index)\n",
    "\n",
    "X = pics.drop(columns=[\"Stadium\"])\n",
    "y = pics[\"Stadium\"]"
   ]
  },
  {
   "cell_type": "markdown",
   "metadata": {},
   "source": [
    "Create train, validation and test sets"
   ]
  },
  {
   "cell_type": "code",
   "execution_count": null,
   "metadata": {},
   "outputs": [],
   "source": [
    "from sklearn.model_selection import train_test_split\n",
    "\n",
    "# split data into 80% training, 10% validation, 10% test\n",
    "X_train, X_rest, y_train, y_rest = train_test_split(\n",
    "    X, y, test_size=0.2, stratify=y, random_state=42\n",
    ")\n",
    "X_val, X_test, y_val, y_test = train_test_split(\n",
    "    X_rest, y_rest, test_size=0.5, stratify=y_rest, random_state=42\n",
    ")"
   ]
  },
  {
   "cell_type": "markdown",
   "metadata": {},
   "source": [
    "Download images and move them to train and val folders (YOLOv8 image classification format) and an additional test folder (for the final test)"
   ]
  },
  {
   "cell_type": "code",
   "execution_count": null,
   "metadata": {},
   "outputs": [],
   "source": [
    "from src.scrape import download_images_to_yolo\n",
    "\n",
    "download_images_to_yolo(X_train, y_train, \"./data/images/v3/train\")\n",
    "download_images_to_yolo(X_val, y_val, \"./data/images/v3/val\")\n",
    "download_images_to_yolo(X_test, y_test, \"./data/images/v3/test\")"
   ]
  }
 ],
 "metadata": {
  "kernelspec": {
   "display_name": ".venv",
   "language": "python",
   "name": "python3"
  },
  "language_info": {
   "codemirror_mode": {
    "name": "ipython",
    "version": 3
   },
   "file_extension": ".py",
   "mimetype": "text/x-python",
   "name": "python",
   "nbconvert_exporter": "python",
   "pygments_lexer": "ipython3",
   "version": "3.10.9"
  }
 },
 "nbformat": 4,
 "nbformat_minor": 2
}
